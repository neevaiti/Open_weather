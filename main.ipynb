{
 "cells": [
  {
   "attachments": {},
   "cell_type": "markdown",
   "metadata": {},
   "source": [
    "# First we need to use API"
   ]
  },
  {
   "cell_type": "code",
   "execution_count": 41,
   "metadata": {},
   "outputs": [],
   "source": [
    "import os\n",
    "import requests\n",
    "import pandas as pd\n",
    "\n",
    "api_key = os.getenv(\"API_KEY\")"
   ]
  },
  {
   "cell_type": "code",
   "execution_count": null,
   "metadata": {},
   "outputs": [],
   "source": [
    "params = {\n",
    "    \"q\": \"Paris,fr\",\n",
    "    \"appid\": api_key,\n",
    "}\n",
    "\n",
    "response = requests.get(f'https://api.openweathermap.org/data/2.5/weather', params=params)"
   ]
  },
  {
   "attachments": {},
   "cell_type": "markdown",
   "metadata": {},
   "source": [
    "### Use a loop for making calls"
   ]
  },
  {
   "cell_type": "code",
   "execution_count": 48,
   "metadata": {},
   "outputs": [
    {
     "name": "stdout",
     "output_type": "stream",
     "text": [
      "{\"coord\":{\"lon\":2.3488,\"lat\":48.8534},\"weather\":[{\"id\":801,\"main\":\"Clouds\",\"description\":\"few clouds\",\"icon\":\"02d\"}],\"base\":\"stations\",\"main\":{\"temp\":282.46,\"feels_like\":279.3,\"temp_min\":281.54,\"temp_max\":284.19,\"pressure\":1026,\"humidity\":57},\"visibility\":10000,\"wind\":{\"speed\":6.69,\"deg\":50},\"clouds\":{\"all\":20},\"dt\":1680521475,\"sys\":{\"type\":2,\"id\":2041230,\"country\":\"FR\",\"sunrise\":1680499491,\"sunset\":1680546168},\"timezone\":7200,\"id\":2988507,\"name\":\"Paris\",\"cod\":200}\n",
      "{\"coord\":{\"lon\":5.5,\"lat\":43.3333},\"weather\":[{\"id\":800,\"main\":\"Clear\",\"description\":\"clear sky\",\"icon\":\"01d\"}],\"base\":\"stations\",\"main\":{\"temp\":289.88,\"feels_like\":288.6,\"temp_min\":286.57,\"temp_max\":290.19,\"pressure\":1011,\"humidity\":38},\"visibility\":10000,\"wind\":{\"speed\":5.81,\"deg\":278,\"gust\":7.6},\"clouds\":{\"all\":2},\"dt\":1680521725,\"sys\":{\"type\":2,\"id\":80238,\"country\":\"FR\",\"sunrise\":1680499018,\"sunset\":1680545129},\"timezone\":7200,\"id\":2995468,\"name\":\"Arrondissement de Marseille\",\"cod\":200}\n",
      "{\"coord\":{\"lon\":4.5833,\"lat\":45.75},\"weather\":[{\"id\":804,\"main\":\"Clouds\",\"description\":\"overcast clouds\",\"icon\":\"04d\"}],\"base\":\"stations\",\"main\":{\"temp\":279.52,\"feels_like\":277.89,\"temp_min\":278.9,\"temp_max\":280.18,\"pressure\":1020,\"humidity\":87},\"visibility\":10000,\"wind\":{\"speed\":2.24,\"deg\":90,\"gust\":5.36},\"clouds\":{\"all\":100},\"dt\":1680521402,\"sys\":{\"type\":2,\"id\":2007821,\"country\":\"FR\",\"sunrise\":1680499122,\"sunset\":1680545465},\"timezone\":7200,\"id\":2996943,\"name\":\"Arrondissement de Lyon\",\"cod\":200}\n",
      "{\"coord\":{\"lon\":1.4437,\"lat\":43.6043},\"weather\":[{\"id\":803,\"main\":\"Clouds\",\"description\":\"broken clouds\",\"icon\":\"04d\"}],\"base\":\"stations\",\"main\":{\"temp\":285.03,\"feels_like\":284,\"temp_min\":283.6,\"temp_max\":285.14,\"pressure\":1021,\"humidity\":66},\"visibility\":10000,\"wind\":{\"speed\":6.69,\"deg\":310},\"clouds\":{\"all\":75},\"dt\":1680521730,\"sys\":{\"type\":1,\"id\":6467,\"country\":\"FR\",\"sunrise\":1680499978,\"sunset\":1680546116},\"timezone\":7200,\"id\":2972315,\"name\":\"Toulouse\",\"cod\":200}\n",
      "{\"coord\":{\"lon\":7.25,\"lat\":44},\"weather\":[{\"id\":803,\"main\":\"Clouds\",\"description\":\"broken clouds\",\"icon\":\"04d\"}],\"base\":\"stations\",\"main\":{\"temp\":282.3,\"feels_like\":280.9,\"temp_min\":281.49,\"temp_max\":284.8,\"pressure\":1012,\"humidity\":55,\"sea_level\":1012,\"grnd_level\":862},\"visibility\":10000,\"wind\":{\"speed\":2.6,\"deg\":140,\"gust\":1.73},\"clouds\":{\"all\":72},\"dt\":1680521663,\"sys\":{\"type\":2,\"id\":2080645,\"country\":\"FR\",\"sunrise\":1680498567,\"sunset\":1680544739},\"timezone\":7200,\"id\":2990439,\"name\":\"Arrondissement de Nice\",\"cod\":200}\n",
      "{\"coord\":{\"lon\":-1.5833,\"lat\":47.1667},\"weather\":[{\"id\":804,\"main\":\"Clouds\",\"description\":\"overcast clouds\",\"icon\":\"04d\"}],\"base\":\"stations\",\"main\":{\"temp\":281.11,\"feels_like\":278.13,\"temp_min\":280.96,\"temp_max\":281.87,\"pressure\":1025,\"humidity\":76},\"visibility\":10000,\"wind\":{\"speed\":5.14,\"deg\":60},\"clouds\":{\"all\":100},\"dt\":1680521403,\"sys\":{\"type\":1,\"id\":6574,\"country\":\"FR\",\"sunrise\":1680500526,\"sunset\":1680547020},\"timezone\":7200,\"id\":2990968,\"name\":\"Arrondissement de Nantes\",\"cod\":200}\n",
      "{\"coord\":{\"lon\":7.743,\"lat\":48.5834},\"weather\":[{\"id\":804,\"main\":\"Clouds\",\"description\":\"overcast clouds\",\"icon\":\"04d\"}],\"base\":\"stations\",\"main\":{\"temp\":280.65,\"feels_like\":276.65,\"temp_min\":279.99,\"temp_max\":282.6,\"pressure\":1026,\"humidity\":57},\"visibility\":10000,\"wind\":{\"speed\":7.72,\"deg\":50},\"clouds\":{\"all\":100},\"dt\":1680521404,\"sys\":{\"type\":1,\"id\":6595,\"country\":\"FR\",\"sunrise\":1680498214,\"sunset\":1680544856},\"timezone\":7200,\"id\":2973783,\"name\":\"Strasbourg\",\"cod\":200}\n",
      "{\"coord\":{\"lon\":3.8772,\"lat\":43.6109},\"weather\":[{\"id\":800,\"main\":\"Clear\",\"description\":\"clear sky\",\"icon\":\"01d\"}],\"base\":\"stations\",\"main\":{\"temp\":289.69,\"feels_like\":288.5,\"temp_min\":289.44,\"temp_max\":289.86,\"pressure\":1014,\"humidity\":42},\"visibility\":10000,\"wind\":{\"speed\":6.69,\"deg\":340},\"clouds\":{\"all\":0},\"dt\":1680521208,\"sys\":{\"type\":2,\"id\":2038454,\"country\":\"FR\",\"sunrise\":1680499394,\"sunset\":1680545531},\"timezone\":7200,\"id\":2992166,\"name\":\"Montpellier\",\"cod\":200}\n",
      "{\"coord\":{\"lon\":-0.5805,\"lat\":44.8404},\"weather\":[{\"id\":803,\"main\":\"Clouds\",\"description\":\"broken clouds\",\"icon\":\"04d\"}],\"base\":\"stations\",\"main\":{\"temp\":285.3,\"feels_like\":284.19,\"temp_min\":285.3,\"temp_max\":287.78,\"pressure\":1023,\"humidity\":62},\"visibility\":10000,\"wind\":{\"speed\":2.06,\"deg\":60},\"clouds\":{\"all\":75},\"dt\":1680521393,\"sys\":{\"type\":1,\"id\":6450,\"country\":\"FR\",\"sunrise\":1680500404,\"sunset\":1680546661},\"timezone\":7200,\"id\":3031582,\"name\":\"Bordeaux\",\"cod\":200}\n",
      "{\"coord\":{\"lon\":3.0586,\"lat\":50.633},\"weather\":[{\"id\":800,\"main\":\"Clear\",\"description\":\"clear sky\",\"icon\":\"01d\"}],\"base\":\"stations\",\"main\":{\"temp\":283.6,\"feels_like\":281.95,\"temp_min\":281.69,\"temp_max\":284.65,\"pressure\":1028,\"humidity\":48},\"visibility\":10000,\"wind\":{\"speed\":6.17,\"deg\":50},\"clouds\":{\"all\":0},\"dt\":1680521856,\"sys\":{\"type\":2,\"id\":2011132,\"country\":\"FR\",\"sunrise\":1680499216,\"sunset\":1680546102},\"timezone\":7200,\"id\":2998324,\"name\":\"Lille\",\"cod\":200}\n",
      "{\"coord\":{\"lon\":-1.6667,\"lat\":48.1667},\"weather\":[{\"id\":804,\"main\":\"Clouds\",\"description\":\"overcast clouds\",\"icon\":\"04d\"}],\"base\":\"stations\",\"main\":{\"temp\":279.17,\"feels_like\":276.49,\"temp_min\":279.17,\"temp_max\":281.8,\"pressure\":1027,\"humidity\":75},\"visibility\":10000,\"wind\":{\"speed\":3.6,\"deg\":50},\"clouds\":{\"all\":100},\"dt\":1680521396,\"sys\":{\"type\":1,\"id\":6565,\"country\":\"FR\",\"sunrise\":1680500492,\"sunset\":1680547094},\"timezone\":7200,\"id\":2983989,\"name\":\"Arrondissement de Rennes\",\"cod\":200}\n",
      "{\"coord\":{\"lon\":4.0833,\"lat\":49.1667},\"weather\":[{\"id\":801,\"main\":\"Clouds\",\"description\":\"few clouds\",\"icon\":\"02d\"}],\"base\":\"stations\",\"main\":{\"temp\":282.03,\"feels_like\":278.59,\"temp_min\":281.56,\"temp_max\":282.62,\"pressure\":1026,\"humidity\":57},\"visibility\":10000,\"wind\":{\"speed\":7.2,\"deg\":70},\"clouds\":{\"all\":20},\"dt\":1680521870,\"sys\":{\"type\":1,\"id\":6553,\"country\":\"FR\",\"sunrise\":1680499058,\"sunset\":1680545769},\"timezone\":7200,\"id\":2984113,\"name\":\"Arrondissement de Reims\",\"cod\":200}\n",
      "{\"coord\":{\"lon\":0.1077,\"lat\":49.4938},\"weather\":[{\"id\":801,\"main\":\"Clouds\",\"description\":\"few clouds\",\"icon\":\"02d\"}],\"base\":\"stations\",\"main\":{\"temp\":282.66,\"feels_like\":280.49,\"temp_min\":282.01,\"temp_max\":282.66,\"pressure\":1027,\"humidity\":61},\"visibility\":10000,\"wind\":{\"speed\":4.12,\"deg\":80},\"clouds\":{\"all\":20},\"dt\":1680521870,\"sys\":{\"type\":1,\"id\":6533,\"country\":\"FR\",\"sunrise\":1680499991,\"sunset\":1680546743},\"timezone\":7200,\"id\":3003796,\"name\":\"Le Havre\",\"cod\":200}\n",
      "{\"coord\":{\"lon\":4.5,\"lat\":45.4167},\"weather\":[{\"id\":804,\"main\":\"Clouds\",\"description\":\"overcast clouds\",\"icon\":\"04d\"}],\"base\":\"stations\",\"main\":{\"temp\":278.7,\"feels_like\":275.57,\"temp_min\":277.44,\"temp_max\":278.71,\"pressure\":1019,\"humidity\":82,\"sea_level\":1019,\"grnd_level\":928},\"visibility\":10000,\"wind\":{\"speed\":4.21,\"deg\":2,\"gust\":7.33},\"clouds\":{\"all\":100},\"dt\":1680521411,\"sys\":{\"type\":1,\"id\":6508,\"country\":\"FR\",\"sunrise\":1680499158,\"sunset\":1680545468},\"timezone\":7200,\"id\":2980288,\"name\":\"Arrondissement de Saint-Étienne\",\"cod\":200}\n",
      "{\"coord\":{\"lon\":5.9333,\"lat\":43.1167},\"weather\":[{\"id\":800,\"main\":\"Clear\",\"description\":\"clear sky\",\"icon\":\"01d\"}],\"base\":\"stations\",\"main\":{\"temp\":290.56,\"feels_like\":289.82,\"temp_min\":288.85,\"temp_max\":294.66,\"pressure\":1010,\"humidity\":56},\"visibility\":10000,\"wind\":{\"speed\":4.63,\"deg\":210},\"clouds\":{\"all\":0},\"dt\":1680521871,\"sys\":{\"type\":2,\"id\":2005831,\"country\":\"FR\",\"sunrise\":1680498924,\"sunset\":1680545015},\"timezone\":7200,\"id\":2972328,\"name\":\"Toulon\",\"cod\":200}\n",
      "{\"coord\":{\"lon\":5.8333,\"lat\":45.0833},\"weather\":[{\"id\":804,\"main\":\"Clouds\",\"description\":\"overcast clouds\",\"icon\":\"04d\"}],\"base\":\"stations\",\"main\":{\"temp\":275.13,\"feels_like\":272.47,\"temp_min\":275.13,\"temp_max\":276.37,\"pressure\":1018,\"humidity\":92,\"sea_level\":1018,\"grnd_level\":854},\"visibility\":3700,\"wind\":{\"speed\":2.5,\"deg\":332,\"gust\":3.39},\"clouds\":{\"all\":90},\"dt\":1680521372,\"sys\":{\"type\":2,\"id\":2004515,\"country\":\"FR\",\"sunrise\":1680498855,\"sunset\":1680545132},\"timezone\":7200,\"id\":3014727,\"name\":\"Arrondissement de Grenoble\",\"cod\":200}\n",
      "{\"coord\":{\"lon\":5.0167,\"lat\":47.3167},\"weather\":[{\"id\":804,\"main\":\"Clouds\",\"description\":\"overcast clouds\",\"icon\":\"04d\"}],\"base\":\"stations\",\"main\":{\"temp\":279.12,\"feels_like\":275.41,\"temp_min\":279,\"temp_max\":282.21,\"pressure\":1022,\"humidity\":81},\"visibility\":10000,\"wind\":{\"speed\":5.66,\"deg\":10},\"clouds\":{\"all\":100},\"dt\":1680521777,\"sys\":{\"type\":1,\"id\":6586,\"country\":\"FR\",\"sunrise\":1680498937,\"sunset\":1680545442},\"timezone\":7200,\"id\":3021372,\"name\":\"Dijon\",\"cod\":200}\n",
      "{\"coord\":{\"lon\":-0.55,\"lat\":47.4667},\"weather\":[{\"id\":802,\"main\":\"Clouds\",\"description\":\"scattered clouds\",\"icon\":\"03d\"}],\"base\":\"stations\",\"main\":{\"temp\":283.04,\"feels_like\":280.88,\"temp_min\":281.16,\"temp_max\":283.04,\"pressure\":1025,\"humidity\":65,\"sea_level\":1025,\"grnd_level\":1019},\"visibility\":10000,\"wind\":{\"speed\":4.32,\"deg\":53,\"gust\":5.03},\"clouds\":{\"all\":42},\"dt\":1680521702,\"sys\":{\"type\":2,\"id\":2032547,\"country\":\"FR\",\"sunrise\":1680500263,\"sunset\":1680546787},\"timezone\":7200,\"id\":3037656,\"name\":\"Angers\",\"cod\":200}\n",
      "{\"coord\":{\"lon\":8.9167,\"lat\":42},\"weather\":[{\"id\":803,\"main\":\"Clouds\",\"description\":\"broken clouds\",\"icon\":\"04d\"}],\"base\":\"stations\",\"main\":{\"temp\":287.14,\"feels_like\":286.34,\"temp_min\":287.14,\"temp_max\":290.18,\"pressure\":1009,\"humidity\":67},\"visibility\":10000,\"wind\":{\"speed\":5.14,\"deg\":210},\"clouds\":{\"all\":75},\"dt\":1680521801,\"sys\":{\"type\":1,\"id\":6492,\"country\":\"FR\",\"sunrise\":1680498259,\"sunset\":1680544248},\"timezone\":7200,\"id\":3038333,\"name\":\"Arrondissement d'Ajaccio\",\"cod\":200}\n",
      "{\"coord\":{\"lon\":2.3333,\"lat\":48.9167},\"weather\":[{\"id\":801,\"main\":\"Clouds\",\"description\":\"few clouds\",\"icon\":\"02d\"}],\"base\":\"stations\",\"main\":{\"temp\":282.51,\"feels_like\":279.21,\"temp_min\":281.54,\"temp_max\":284.18,\"pressure\":1026,\"humidity\":55},\"visibility\":10000,\"wind\":{\"speed\":7.2,\"deg\":50},\"clouds\":{\"all\":20},\"dt\":1680521871,\"sys\":{\"type\":2,\"id\":2041230,\"country\":\"FR\",\"sunrise\":1680499491,\"sunset\":1680546175},\"timezone\":7200,\"id\":2980915,\"name\":\"Arrondissement de Saint-Denis\",\"cod\":200}\n"
     ]
    }
   ],
   "source": [
    "cities = [\"Paris\", \"Marseille\", \"Lyon\", \"Toulouse\", \"Nice\", \"Nantes\", \"Strasbourg\", \"Montpellier\", \"Bordeaux\", \"Lille\", \"Rennes\", \"Reims\", \"Le Havre\", \"Saint-Étienne\", \"Toulon\", \"Grenoble\", \"Dijon\", \"Angers\", \"Ajaccio\", \"Saint-Denis\"]\n",
    "resultat = []\n",
    "\n",
    "for city in cities:\n",
    "    params = {\n",
    "        \"q\": f\"{city},fr\",\n",
    "        \"appid\": api_key,\n",
    "    }\n",
    "    response = requests.get(f'https://api.openweathermap.org/data/2.5/weather', params=params)\n",
    "    print(response.text)\n",
    "    \n"
   ]
  },
  {
   "cell_type": "code",
   "execution_count": null,
   "metadata": {},
   "outputs": [],
   "source": []
  }
 ],
 "metadata": {
  "kernelspec": {
   "display_name": "Python 3",
   "language": "python",
   "name": "python3"
  },
  "language_info": {
   "codemirror_mode": {
    "name": "ipython",
    "version": 3
   },
   "file_extension": ".py",
   "mimetype": "text/x-python",
   "name": "python",
   "nbconvert_exporter": "python",
   "pygments_lexer": "ipython3",
   "version": "3.10.10"
  },
  "orig_nbformat": 4
 },
 "nbformat": 4,
 "nbformat_minor": 2
}
